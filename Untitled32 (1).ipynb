{
  "cells": [
    {
      "cell_type": "code",
      "execution_count": 4,
      "metadata": {
        "id": "Ch1EOYgBwc64"
      },
      "outputs": [],
      "source": [
        "import pandas as pd\n",
        "import numpy as np"
      ]
    },
    {
      "cell_type": "code",
      "execution_count": 5,
      "metadata": {
        "id": "qPSjcr_Lj0vR"
      },
      "outputs": [],
      "source": [
        "data=pd.read_csv(\"Your dataset file\")"
      ]
    },
    {
      "cell_type": "code",
      "execution_count": 6,
      "metadata": {
        "colab": {
          "base_uri": "https://localhost:8080/",
          "height": 153
        },
        "id": "yEFVxjjVwwVU",
        "outputId": "0fdccde3-b7f1-4612-9b88-cbf685ce19fd"
      },
      "outputs": [
        {
          "data": {
            "text/html": [
              "<div>\n",
              "<style scoped>\n",
              "    .dataframe tbody tr th:only-of-type {\n",
              "        vertical-align: middle;\n",
              "    }\n",
              "\n",
              "    .dataframe tbody tr th {\n",
              "        vertical-align: top;\n",
              "    }\n",
              "\n",
              "    .dataframe thead th {\n",
              "        text-align: right;\n",
              "    }\n",
              "</style>\n",
              "<table border=\"1\" class=\"dataframe\">\n",
              "  <thead>\n",
              "    <tr style=\"text-align: right;\">\n",
              "      <th></th>\n",
              "      <th>BROKERTITLE</th>\n",
              "      <th>TYPE</th>\n",
              "      <th>PRICE</th>\n",
              "      <th>BEDS</th>\n",
              "      <th>BATH</th>\n",
              "      <th>PROPERTYSQFT</th>\n",
              "      <th>ADDRESS</th>\n",
              "      <th>STATE</th>\n",
              "      <th>MAIN_ADDRESS</th>\n",
              "      <th>ADMINISTRATIVE_AREA_LEVEL_2</th>\n",
              "      <th>LOCALITY</th>\n",
              "      <th>SUBLOCALITY</th>\n",
              "      <th>STREET_NAME</th>\n",
              "      <th>LONG_NAME</th>\n",
              "      <th>FORMATTED_ADDRESS</th>\n",
              "      <th>LATITUDE</th>\n",
              "      <th>LONGITUDE</th>\n",
              "    </tr>\n",
              "  </thead>\n",
              "  <tbody>\n",
              "    <tr>\n",
              "      <th>0</th>\n",
              "      <td>Brokered by Douglas Elliman  -111 Fifth Ave</td>\n",
              "      <td>Condo for sale</td>\n",
              "      <td>315000</td>\n",
              "      <td>2</td>\n",
              "      <td>2.0</td>\n",
              "      <td>1400.0</td>\n",
              "      <td>2 E 55th St Unit 803</td>\n",
              "      <td>New York, NY 10022</td>\n",
              "      <td>2 E 55th St Unit 803New York, NY 10022</td>\n",
              "      <td>New York County</td>\n",
              "      <td>New York</td>\n",
              "      <td>Manhattan</td>\n",
              "      <td>East 55th Street</td>\n",
              "      <td>Regis Residence</td>\n",
              "      <td>Regis Residence, 2 E 55th St #803, New York, N...</td>\n",
              "      <td>40.761255</td>\n",
              "      <td>-73.974483</td>\n",
              "    </tr>\n",
              "  </tbody>\n",
              "</table>\n",
              "</div>"
            ],
            "text/plain": [
              "                                   BROKERTITLE            TYPE   PRICE  BEDS  \\\n",
              "0  Brokered by Douglas Elliman  -111 Fifth Ave  Condo for sale  315000     2   \n",
              "\n",
              "   BATH  PROPERTYSQFT               ADDRESS               STATE  \\\n",
              "0   2.0        1400.0  2 E 55th St Unit 803  New York, NY 10022   \n",
              "\n",
              "                             MAIN_ADDRESS ADMINISTRATIVE_AREA_LEVEL_2  \\\n",
              "0  2 E 55th St Unit 803New York, NY 10022             New York County   \n",
              "\n",
              "   LOCALITY SUBLOCALITY       STREET_NAME        LONG_NAME  \\\n",
              "0  New York   Manhattan  East 55th Street  Regis Residence   \n",
              "\n",
              "                                   FORMATTED_ADDRESS   LATITUDE  LONGITUDE  \n",
              "0  Regis Residence, 2 E 55th St #803, New York, N...  40.761255 -73.974483  "
            ]
          },
          "execution_count": 6,
          "metadata": {},
          "output_type": "execute_result"
        }
      ],
      "source": [
        "df=pd.read_csv(\"Your dataset file\")\n",
        "df.head(1)"
      ]
    },
    {
      "cell_type": "code",
      "execution_count": 7,
      "metadata": {
        "colab": {
          "base_uri": "https://localhost:8080/"
        },
        "id": "JtK7PRmzw3fR",
        "outputId": "ed219b50-1cb4-4c52-fa75-678829a7b8fa"
      },
      "outputs": [
        {
          "name": "stdout",
          "output_type": "stream",
          "text": [
            "<class 'pandas.core.frame.DataFrame'>\n",
            "RangeIndex: 4801 entries, 0 to 4800\n",
            "Data columns (total 17 columns):\n",
            " #   Column                       Non-Null Count  Dtype  \n",
            "---  ------                       --------------  -----  \n",
            " 0   BROKERTITLE                  4801 non-null   object \n",
            " 1   TYPE                         4801 non-null   object \n",
            " 2   PRICE                        4801 non-null   int64  \n",
            " 3   BEDS                         4801 non-null   int64  \n",
            " 4   BATH                         4801 non-null   float64\n",
            " 5   PROPERTYSQFT                 4801 non-null   float64\n",
            " 6   ADDRESS                      4801 non-null   object \n",
            " 7   STATE                        4801 non-null   object \n",
            " 8   MAIN_ADDRESS                 4801 non-null   object \n",
            " 9   ADMINISTRATIVE_AREA_LEVEL_2  4801 non-null   object \n",
            " 10  LOCALITY                     4801 non-null   object \n",
            " 11  SUBLOCALITY                  4801 non-null   object \n",
            " 12  STREET_NAME                  4801 non-null   object \n",
            " 13  LONG_NAME                    4801 non-null   object \n",
            " 14  FORMATTED_ADDRESS            4801 non-null   object \n",
            " 15  LATITUDE                     4801 non-null   float64\n",
            " 16  LONGITUDE                    4801 non-null   float64\n",
            "dtypes: float64(4), int64(2), object(11)\n",
            "memory usage: 637.8+ KB\n"
          ]
        }
      ],
      "source": [
        "df.info()"
      ]
    },
    {
      "cell_type": "code",
      "execution_count": 8,
      "metadata": {
        "colab": {
          "base_uri": "https://localhost:8080/",
          "height": 617
        },
        "id": "TCMq-IPNw6Bw",
        "outputId": "08eda6c2-0e6d-42b0-906f-57e899068611"
      },
      "outputs": [
        {
          "data": {
            "text/plain": [
              "BROKERTITLE                    0\n",
              "TYPE                           0\n",
              "PRICE                          0\n",
              "BEDS                           0\n",
              "BATH                           0\n",
              "PROPERTYSQFT                   0\n",
              "ADDRESS                        0\n",
              "STATE                          0\n",
              "MAIN_ADDRESS                   0\n",
              "ADMINISTRATIVE_AREA_LEVEL_2    0\n",
              "LOCALITY                       0\n",
              "SUBLOCALITY                    0\n",
              "STREET_NAME                    0\n",
              "LONG_NAME                      0\n",
              "FORMATTED_ADDRESS              0\n",
              "LATITUDE                       0\n",
              "LONGITUDE                      0\n",
              "dtype: int64"
            ]
          },
          "execution_count": 8,
          "metadata": {},
          "output_type": "execute_result"
        }
      ],
      "source": [
        "df.isnull().sum()"
      ]
    },
    {
      "cell_type": "code",
      "execution_count": 9,
      "metadata": {
        "colab": {
          "base_uri": "https://localhost:8080/",
          "height": 36
        },
        "id": "w34lir_pxDmX",
        "outputId": "e433a233-489c-4be3-f18a-1d1389641e66"
      },
      "outputs": [
        {
          "data": {
            "text/plain": [
              "'\\nstate\\ntype\\nprice\\nbeds\\nbath\\nproperty SQFT\\nformatted address\\n'"
            ]
          },
          "execution_count": 9,
          "metadata": {},
          "output_type": "execute_result"
        }
      ],
      "source": [
        "'''\n",
        "state\n",
        "type\n",
        "price\n",
        "beds\n",
        "bath\n",
        "property SQFT\n",
        "formatted address\n",
        "'''\n"
      ]
    },
    {
      "cell_type": "code",
      "execution_count": 10,
      "metadata": {
        "id": "qnyZyH3eJzsm"
      },
      "outputs": [],
      "source": [
        "df=df[['STATE','TYPE','PRICE','BEDS','BATH','PROPERTYSQFT','FORMATTED_ADDRESS']]"
      ]
    },
    {
      "cell_type": "code",
      "execution_count": 11,
      "metadata": {
        "colab": {
          "base_uri": "https://localhost:8080/"
        },
        "id": "9-AgmIJZKU0E",
        "outputId": "f364f850-1b6f-49f5-9c0c-1090465c040d"
      },
      "outputs": [
        {
          "name": "stdout",
          "output_type": "stream",
          "text": [
            "<class 'pandas.core.frame.DataFrame'>\n",
            "RangeIndex: 4801 entries, 0 to 4800\n",
            "Data columns (total 7 columns):\n",
            " #   Column             Non-Null Count  Dtype  \n",
            "---  ------             --------------  -----  \n",
            " 0   STATE              4801 non-null   object \n",
            " 1   TYPE               4801 non-null   object \n",
            " 2   PRICE              4801 non-null   int64  \n",
            " 3   BEDS               4801 non-null   int64  \n",
            " 4   BATH               4801 non-null   float64\n",
            " 5   PROPERTYSQFT       4801 non-null   float64\n",
            " 6   FORMATTED_ADDRESS  4801 non-null   object \n",
            "dtypes: float64(2), int64(2), object(3)\n",
            "memory usage: 262.7+ KB\n"
          ]
        }
      ],
      "source": [
        "df.info()"
      ]
    },
    {
      "cell_type": "code",
      "execution_count": 12,
      "metadata": {
        "id": "XEuwOqq3KoAi"
      },
      "outputs": [],
      "source": [
        "from sklearn.preprocessing import LabelEncoder\n",
        "le=LabelEncoder()\n",
        "df['TYPE']=le.fit_transform(df['TYPE'])\n"
      ]
    },
    {
      "cell_type": "code",
      "execution_count": 13,
      "metadata": {
        "id": "Pu2j6dxnLBcL"
      },
      "outputs": [],
      "source": [
        "df['FORMATTED_ADDRESS']=df['FORMATTED_ADDRESS'].apply(lambda x:x.split(','))"
      ]
    },
    {
      "cell_type": "code",
      "execution_count": 14,
      "metadata": {
        "id": "Q60dh1kNl8HO"
      },
      "outputs": [],
      "source": [
        "df['FORMATTED_ADDRESS']=df['FORMATTED_ADDRESS'].apply(lambda x:[i.replace(\" \",\"\")for i in x])"
      ]
    },
    {
      "cell_type": "code",
      "execution_count": 15,
      "metadata": {
        "colab": {
          "base_uri": "https://localhost:8080/",
          "height": 424
        },
        "id": "GJzgcdVhnUUW",
        "outputId": "956852a6-d061-4601-ea1c-5ffbb305ab8f"
      },
      "outputs": [
        {
          "data": {
            "text/html": [
              "<div>\n",
              "<style scoped>\n",
              "    .dataframe tbody tr th:only-of-type {\n",
              "        vertical-align: middle;\n",
              "    }\n",
              "\n",
              "    .dataframe tbody tr th {\n",
              "        vertical-align: top;\n",
              "    }\n",
              "\n",
              "    .dataframe thead th {\n",
              "        text-align: right;\n",
              "    }\n",
              "</style>\n",
              "<table border=\"1\" class=\"dataframe\">\n",
              "  <thead>\n",
              "    <tr style=\"text-align: right;\">\n",
              "      <th></th>\n",
              "      <th>STATE</th>\n",
              "      <th>TYPE</th>\n",
              "      <th>PRICE</th>\n",
              "      <th>BEDS</th>\n",
              "      <th>BATH</th>\n",
              "      <th>PROPERTYSQFT</th>\n",
              "      <th>FORMATTED_ADDRESS</th>\n",
              "    </tr>\n",
              "  </thead>\n",
              "  <tbody>\n",
              "    <tr>\n",
              "      <th>0</th>\n",
              "      <td>New York, NY 10022</td>\n",
              "      <td>2</td>\n",
              "      <td>315000</td>\n",
              "      <td>2</td>\n",
              "      <td>2.000000</td>\n",
              "      <td>1400.000000</td>\n",
              "      <td>[RegisResidence, 2E55thSt#803, NewYork, NY1002...</td>\n",
              "    </tr>\n",
              "    <tr>\n",
              "      <th>1</th>\n",
              "      <td>New York, NY 10019</td>\n",
              "      <td>2</td>\n",
              "      <td>195000000</td>\n",
              "      <td>7</td>\n",
              "      <td>10.000000</td>\n",
              "      <td>17545.000000</td>\n",
              "      <td>[217W57thSt, NewYork, NY10019, USA]</td>\n",
              "    </tr>\n",
              "    <tr>\n",
              "      <th>2</th>\n",
              "      <td>Staten Island, NY 10312</td>\n",
              "      <td>7</td>\n",
              "      <td>260000</td>\n",
              "      <td>4</td>\n",
              "      <td>2.000000</td>\n",
              "      <td>2015.000000</td>\n",
              "      <td>[620SinclairAve, StatenIsland, NY10312, USA]</td>\n",
              "    </tr>\n",
              "    <tr>\n",
              "      <th>3</th>\n",
              "      <td>Manhattan, NY 10022</td>\n",
              "      <td>2</td>\n",
              "      <td>69000</td>\n",
              "      <td>3</td>\n",
              "      <td>1.000000</td>\n",
              "      <td>445.000000</td>\n",
              "      <td>[2E55thSt, NewYork, NY10022, USA]</td>\n",
              "    </tr>\n",
              "    <tr>\n",
              "      <th>4</th>\n",
              "      <td>New York, NY 10065</td>\n",
              "      <td>12</td>\n",
              "      <td>55000000</td>\n",
              "      <td>7</td>\n",
              "      <td>2.373861</td>\n",
              "      <td>14175.000000</td>\n",
              "      <td>[5E64thSt, NewYork, NY10065, USA]</td>\n",
              "    </tr>\n",
              "    <tr>\n",
              "      <th>...</th>\n",
              "      <td>...</td>\n",
              "      <td>...</td>\n",
              "      <td>...</td>\n",
              "      <td>...</td>\n",
              "      <td>...</td>\n",
              "      <td>...</td>\n",
              "      <td>...</td>\n",
              "    </tr>\n",
              "    <tr>\n",
              "      <th>4796</th>\n",
              "      <td>Manhattan, NY 10075</td>\n",
              "      <td>0</td>\n",
              "      <td>599000</td>\n",
              "      <td>1</td>\n",
              "      <td>1.000000</td>\n",
              "      <td>2184.207862</td>\n",
              "      <td>[222E80thSt#3a, NewYork, NY10075, USA]</td>\n",
              "    </tr>\n",
              "    <tr>\n",
              "      <th>4797</th>\n",
              "      <td>Rego Park, NY 11374</td>\n",
              "      <td>0</td>\n",
              "      <td>245000</td>\n",
              "      <td>1</td>\n",
              "      <td>1.000000</td>\n",
              "      <td>2184.207862</td>\n",
              "      <td>[97-4062ndDr, RegoPark, NY11374, USA]</td>\n",
              "    </tr>\n",
              "    <tr>\n",
              "      <th>4798</th>\n",
              "      <td>New York, NY 10011</td>\n",
              "      <td>0</td>\n",
              "      <td>1275000</td>\n",
              "      <td>1</td>\n",
              "      <td>1.000000</td>\n",
              "      <td>2184.207862</td>\n",
              "      <td>[427W21stSt, NewYork, NY10011, USA]</td>\n",
              "    </tr>\n",
              "    <tr>\n",
              "      <th>4799</th>\n",
              "      <td>Elmhurst, NY 11373</td>\n",
              "      <td>2</td>\n",
              "      <td>598125</td>\n",
              "      <td>2</td>\n",
              "      <td>1.000000</td>\n",
              "      <td>655.000000</td>\n",
              "      <td>[91-23CoronaAve.#4b, Flushing, NY11373, USA]</td>\n",
              "    </tr>\n",
              "    <tr>\n",
              "      <th>4800</th>\n",
              "      <td>Brooklyn, NY 11224</td>\n",
              "      <td>0</td>\n",
              "      <td>349000</td>\n",
              "      <td>1</td>\n",
              "      <td>1.000000</td>\n",
              "      <td>750.000000</td>\n",
              "      <td>[460NeptuneAve#14a, Brooklyn, NY11224, USA]</td>\n",
              "    </tr>\n",
              "  </tbody>\n",
              "</table>\n",
              "<p>4801 rows × 7 columns</p>\n",
              "</div>"
            ],
            "text/plain": [
              "                        STATE  TYPE      PRICE  BEDS       BATH  PROPERTYSQFT  \\\n",
              "0          New York, NY 10022     2     315000     2   2.000000   1400.000000   \n",
              "1          New York, NY 10019     2  195000000     7  10.000000  17545.000000   \n",
              "2     Staten Island, NY 10312     7     260000     4   2.000000   2015.000000   \n",
              "3         Manhattan, NY 10022     2      69000     3   1.000000    445.000000   \n",
              "4          New York, NY 10065    12   55000000     7   2.373861  14175.000000   \n",
              "...                       ...   ...        ...   ...        ...           ...   \n",
              "4796      Manhattan, NY 10075     0     599000     1   1.000000   2184.207862   \n",
              "4797      Rego Park, NY 11374     0     245000     1   1.000000   2184.207862   \n",
              "4798       New York, NY 10011     0    1275000     1   1.000000   2184.207862   \n",
              "4799       Elmhurst, NY 11373     2     598125     2   1.000000    655.000000   \n",
              "4800       Brooklyn, NY 11224     0     349000     1   1.000000    750.000000   \n",
              "\n",
              "                                      FORMATTED_ADDRESS  \n",
              "0     [RegisResidence, 2E55thSt#803, NewYork, NY1002...  \n",
              "1                   [217W57thSt, NewYork, NY10019, USA]  \n",
              "2          [620SinclairAve, StatenIsland, NY10312, USA]  \n",
              "3                     [2E55thSt, NewYork, NY10022, USA]  \n",
              "4                     [5E64thSt, NewYork, NY10065, USA]  \n",
              "...                                                 ...  \n",
              "4796             [222E80thSt#3a, NewYork, NY10075, USA]  \n",
              "4797              [97-4062ndDr, RegoPark, NY11374, USA]  \n",
              "4798                [427W21stSt, NewYork, NY10011, USA]  \n",
              "4799       [91-23CoronaAve.#4b, Flushing, NY11373, USA]  \n",
              "4800        [460NeptuneAve#14a, Brooklyn, NY11224, USA]  \n",
              "\n",
              "[4801 rows x 7 columns]"
            ]
          },
          "execution_count": 15,
          "metadata": {},
          "output_type": "execute_result"
        }
      ],
      "source": [
        "df"
      ]
    },
    {
      "cell_type": "code",
      "execution_count": 16,
      "metadata": {
        "id": "0JHcQj8tn9qt"
      },
      "outputs": [],
      "source": [
        "df['FORMATTED_ADDRESS']=df['FORMATTED_ADDRESS'].apply(lambda x:\" \".join(x))"
      ]
    },
    {
      "cell_type": "code",
      "execution_count": 17,
      "metadata": {
        "id": "8zrnz2kdp8i9"
      },
      "outputs": [],
      "source": [
        "import re\n",
        "df['FORMATTED_ADDRESS']=df['FORMATTED_ADDRESS'].apply(lambda x: re.sub(r'[^a-zA-Z0-9\\s]', '', x))"
      ]
    },
    {
      "cell_type": "code",
      "execution_count": 18,
      "metadata": {
        "id": "v6TDqUXJqT1H"
      },
      "outputs": [],
      "source": [
        "df['FORMATTED_ADDRESS']=df['FORMATTED_ADDRESS'].apply(lambda x: x.lower())"
      ]
    },
    {
      "cell_type": "code",
      "execution_count": 19,
      "metadata": {
        "colab": {
          "base_uri": "https://localhost:8080/",
          "height": 424
        },
        "id": "3YERlVVGD1Nc",
        "outputId": "de963127-f473-46c1-92ac-1e22f241f3d4"
      },
      "outputs": [
        {
          "data": {
            "text/html": [
              "<div>\n",
              "<style scoped>\n",
              "    .dataframe tbody tr th:only-of-type {\n",
              "        vertical-align: middle;\n",
              "    }\n",
              "\n",
              "    .dataframe tbody tr th {\n",
              "        vertical-align: top;\n",
              "    }\n",
              "\n",
              "    .dataframe thead th {\n",
              "        text-align: right;\n",
              "    }\n",
              "</style>\n",
              "<table border=\"1\" class=\"dataframe\">\n",
              "  <thead>\n",
              "    <tr style=\"text-align: right;\">\n",
              "      <th></th>\n",
              "      <th>STATE</th>\n",
              "      <th>TYPE</th>\n",
              "      <th>PRICE</th>\n",
              "      <th>BEDS</th>\n",
              "      <th>BATH</th>\n",
              "      <th>PROPERTYSQFT</th>\n",
              "      <th>FORMATTED_ADDRESS</th>\n",
              "    </tr>\n",
              "  </thead>\n",
              "  <tbody>\n",
              "    <tr>\n",
              "      <th>0</th>\n",
              "      <td>New York, NY 10022</td>\n",
              "      <td>2</td>\n",
              "      <td>315000</td>\n",
              "      <td>2</td>\n",
              "      <td>2.000000</td>\n",
              "      <td>1400.000000</td>\n",
              "      <td>regisresidence 2e55thst803 newyork ny10022 usa</td>\n",
              "    </tr>\n",
              "    <tr>\n",
              "      <th>1</th>\n",
              "      <td>New York, NY 10019</td>\n",
              "      <td>2</td>\n",
              "      <td>195000000</td>\n",
              "      <td>7</td>\n",
              "      <td>10.000000</td>\n",
              "      <td>17545.000000</td>\n",
              "      <td>217w57thst newyork ny10019 usa</td>\n",
              "    </tr>\n",
              "    <tr>\n",
              "      <th>2</th>\n",
              "      <td>Staten Island, NY 10312</td>\n",
              "      <td>7</td>\n",
              "      <td>260000</td>\n",
              "      <td>4</td>\n",
              "      <td>2.000000</td>\n",
              "      <td>2015.000000</td>\n",
              "      <td>620sinclairave statenisland ny10312 usa</td>\n",
              "    </tr>\n",
              "    <tr>\n",
              "      <th>3</th>\n",
              "      <td>Manhattan, NY 10022</td>\n",
              "      <td>2</td>\n",
              "      <td>69000</td>\n",
              "      <td>3</td>\n",
              "      <td>1.000000</td>\n",
              "      <td>445.000000</td>\n",
              "      <td>2e55thst newyork ny10022 usa</td>\n",
              "    </tr>\n",
              "    <tr>\n",
              "      <th>4</th>\n",
              "      <td>New York, NY 10065</td>\n",
              "      <td>12</td>\n",
              "      <td>55000000</td>\n",
              "      <td>7</td>\n",
              "      <td>2.373861</td>\n",
              "      <td>14175.000000</td>\n",
              "      <td>5e64thst newyork ny10065 usa</td>\n",
              "    </tr>\n",
              "    <tr>\n",
              "      <th>...</th>\n",
              "      <td>...</td>\n",
              "      <td>...</td>\n",
              "      <td>...</td>\n",
              "      <td>...</td>\n",
              "      <td>...</td>\n",
              "      <td>...</td>\n",
              "      <td>...</td>\n",
              "    </tr>\n",
              "    <tr>\n",
              "      <th>4796</th>\n",
              "      <td>Manhattan, NY 10075</td>\n",
              "      <td>0</td>\n",
              "      <td>599000</td>\n",
              "      <td>1</td>\n",
              "      <td>1.000000</td>\n",
              "      <td>2184.207862</td>\n",
              "      <td>222e80thst3a newyork ny10075 usa</td>\n",
              "    </tr>\n",
              "    <tr>\n",
              "      <th>4797</th>\n",
              "      <td>Rego Park, NY 11374</td>\n",
              "      <td>0</td>\n",
              "      <td>245000</td>\n",
              "      <td>1</td>\n",
              "      <td>1.000000</td>\n",
              "      <td>2184.207862</td>\n",
              "      <td>974062nddr regopark ny11374 usa</td>\n",
              "    </tr>\n",
              "    <tr>\n",
              "      <th>4798</th>\n",
              "      <td>New York, NY 10011</td>\n",
              "      <td>0</td>\n",
              "      <td>1275000</td>\n",
              "      <td>1</td>\n",
              "      <td>1.000000</td>\n",
              "      <td>2184.207862</td>\n",
              "      <td>427w21stst newyork ny10011 usa</td>\n",
              "    </tr>\n",
              "    <tr>\n",
              "      <th>4799</th>\n",
              "      <td>Elmhurst, NY 11373</td>\n",
              "      <td>2</td>\n",
              "      <td>598125</td>\n",
              "      <td>2</td>\n",
              "      <td>1.000000</td>\n",
              "      <td>655.000000</td>\n",
              "      <td>9123coronaave4b flushing ny11373 usa</td>\n",
              "    </tr>\n",
              "    <tr>\n",
              "      <th>4800</th>\n",
              "      <td>Brooklyn, NY 11224</td>\n",
              "      <td>0</td>\n",
              "      <td>349000</td>\n",
              "      <td>1</td>\n",
              "      <td>1.000000</td>\n",
              "      <td>750.000000</td>\n",
              "      <td>460neptuneave14a brooklyn ny11224 usa</td>\n",
              "    </tr>\n",
              "  </tbody>\n",
              "</table>\n",
              "<p>4801 rows × 7 columns</p>\n",
              "</div>"
            ],
            "text/plain": [
              "                        STATE  TYPE      PRICE  BEDS       BATH  PROPERTYSQFT  \\\n",
              "0          New York, NY 10022     2     315000     2   2.000000   1400.000000   \n",
              "1          New York, NY 10019     2  195000000     7  10.000000  17545.000000   \n",
              "2     Staten Island, NY 10312     7     260000     4   2.000000   2015.000000   \n",
              "3         Manhattan, NY 10022     2      69000     3   1.000000    445.000000   \n",
              "4          New York, NY 10065    12   55000000     7   2.373861  14175.000000   \n",
              "...                       ...   ...        ...   ...        ...           ...   \n",
              "4796      Manhattan, NY 10075     0     599000     1   1.000000   2184.207862   \n",
              "4797      Rego Park, NY 11374     0     245000     1   1.000000   2184.207862   \n",
              "4798       New York, NY 10011     0    1275000     1   1.000000   2184.207862   \n",
              "4799       Elmhurst, NY 11373     2     598125     2   1.000000    655.000000   \n",
              "4800       Brooklyn, NY 11224     0     349000     1   1.000000    750.000000   \n",
              "\n",
              "                                   FORMATTED_ADDRESS  \n",
              "0     regisresidence 2e55thst803 newyork ny10022 usa  \n",
              "1                     217w57thst newyork ny10019 usa  \n",
              "2            620sinclairave statenisland ny10312 usa  \n",
              "3                       2e55thst newyork ny10022 usa  \n",
              "4                       5e64thst newyork ny10065 usa  \n",
              "...                                              ...  \n",
              "4796                222e80thst3a newyork ny10075 usa  \n",
              "4797                 974062nddr regopark ny11374 usa  \n",
              "4798                  427w21stst newyork ny10011 usa  \n",
              "4799            9123coronaave4b flushing ny11373 usa  \n",
              "4800           460neptuneave14a brooklyn ny11224 usa  \n",
              "\n",
              "[4801 rows x 7 columns]"
            ]
          },
          "execution_count": 19,
          "metadata": {},
          "output_type": "execute_result"
        }
      ],
      "source": [
        "df"
      ]
    },
    {
      "cell_type": "code",
      "execution_count": 20,
      "metadata": {
        "colab": {
          "base_uri": "https://localhost:8080/"
        },
        "id": "pKSu0M5zq9BI",
        "outputId": "03a7b8eb-171e-4bbd-b090-808354382e12"
      },
      "outputs": [
        {
          "data": {
            "text/plain": [
              "array([[0., 0., 0., ..., 0., 0., 0.],\n",
              "       [0., 0., 0., ..., 0., 0., 0.],\n",
              "       [0., 0., 0., ..., 0., 0., 0.],\n",
              "       ...,\n",
              "       [0., 0., 0., ..., 0., 0., 0.],\n",
              "       [0., 0., 0., ..., 0., 0., 0.],\n",
              "       [0., 0., 0., ..., 0., 0., 0.]])"
            ]
          },
          "execution_count": 20,
          "metadata": {},
          "output_type": "execute_result"
        }
      ],
      "source": [
        "from sklearn.feature_extraction.text import TfidfVectorizer\n",
        "\n",
        "vectorizer = TfidfVectorizer()\n",
        "\n",
        "address_vector = vectorizer.fit_transform(df['FORMATTED_ADDRESS']).toarray()\n",
        "\n",
        "address_vector\n"
      ]
    },
    {
      "cell_type": "code",
      "execution_count": 21,
      "metadata": {
        "colab": {
          "base_uri": "https://localhost:8080/"
        },
        "id": "X5-AH0Sm-FBl",
        "outputId": "7fb063b7-b4e6-43ff-88c2-300d3137a28e"
      },
      "outputs": [
        {
          "data": {
            "text/plain": [
              "array(['10003205thpl', '1000569thave', '1000cloverd5b', ..., 'whitestone',\n",
              "       'woodhaven', 'woodside'], dtype=object)"
            ]
          },
          "execution_count": 21,
          "metadata": {},
          "output_type": "execute_result"
        }
      ],
      "source": [
        "vectorizer.get_feature_names_out()"
      ]
    },
    {
      "cell_type": "code",
      "execution_count": 22,
      "metadata": {
        "id": "lCMgghsdEn8U"
      },
      "outputs": [],
      "source": [
        "df['STATE']=df['STATE'].apply(lambda x: x.split(',')[0])    \n"
      ]
    },
    {
      "cell_type": "code",
      "execution_count": 23,
      "metadata": {
        "id": "QRgnYXQIAfuY"
      },
      "outputs": [],
      "source": [
        "df['STATE']=le.fit_transform(df['STATE'])"
      ]
    },
    {
      "cell_type": "code",
      "execution_count": 24,
      "metadata": {
        "colab": {
          "base_uri": "https://localhost:8080/",
          "height": 81
        },
        "id": "vCqsXfIvDgUh",
        "outputId": "eefd3194-d90e-430c-b910-a1137a99f100"
      },
      "outputs": [
        {
          "data": {
            "text/html": [
              "<div>\n",
              "<style scoped>\n",
              "    .dataframe tbody tr th:only-of-type {\n",
              "        vertical-align: middle;\n",
              "    }\n",
              "\n",
              "    .dataframe tbody tr th {\n",
              "        vertical-align: top;\n",
              "    }\n",
              "\n",
              "    .dataframe thead th {\n",
              "        text-align: right;\n",
              "    }\n",
              "</style>\n",
              "<table border=\"1\" class=\"dataframe\">\n",
              "  <thead>\n",
              "    <tr style=\"text-align: right;\">\n",
              "      <th></th>\n",
              "      <th>STATE</th>\n",
              "      <th>TYPE</th>\n",
              "      <th>PRICE</th>\n",
              "      <th>BEDS</th>\n",
              "      <th>BATH</th>\n",
              "      <th>PROPERTYSQFT</th>\n",
              "      <th>FORMATTED_ADDRESS</th>\n",
              "    </tr>\n",
              "  </thead>\n",
              "  <tbody>\n",
              "    <tr>\n",
              "      <th>0</th>\n",
              "      <td>46</td>\n",
              "      <td>2</td>\n",
              "      <td>315000</td>\n",
              "      <td>2</td>\n",
              "      <td>2.0</td>\n",
              "      <td>1400.0</td>\n",
              "      <td>regisresidence 2e55thst803 newyork ny10022 usa</td>\n",
              "    </tr>\n",
              "  </tbody>\n",
              "</table>\n",
              "</div>"
            ],
            "text/plain": [
              "   STATE  TYPE   PRICE  BEDS  BATH  PROPERTYSQFT  \\\n",
              "0     46     2  315000     2   2.0        1400.0   \n",
              "\n",
              "                                FORMATTED_ADDRESS  \n",
              "0  regisresidence 2e55thst803 newyork ny10022 usa  "
            ]
          },
          "execution_count": 24,
          "metadata": {},
          "output_type": "execute_result"
        }
      ],
      "source": [
        "df.head(1)"
      ]
    },
    {
      "cell_type": "code",
      "execution_count": 25,
      "metadata": {
        "id": "nCcCQAfoDCpk"
      },
      "outputs": [],
      "source": [
        "from sklearn.preprocessing import MinMaxScaler\n",
        "ms=MinMaxScaler()\n",
        "df[['PRICE','PROPERTYSQFT','BEDS','BATH']]=ms.fit_transform(df[['PRICE','PROPERTYSQFT','BEDS','BATH']])"
      ]
    },
    {
      "cell_type": "code",
      "execution_count": 26,
      "metadata": {
        "id": "BTTJHn1zBJA4"
      },
      "outputs": [],
      "source": [
        "import tensorflow as tf\n",
        "from tensorflow.keras.models import Model\n",
        "from tensorflow.keras.layers import Input, Embedding, Flatten, Dense, Concatenate, Dropout"
      ]
    },
    {
      "cell_type": "code",
      "execution_count": 27,
      "metadata": {
        "id": "BKBLT4ZSC9Yx"
      },
      "outputs": [],
      "source": [
        "user_input_income = Input(shape=(1,), name='user_income')\n",
        "user_input_state = Input(shape=(1,), name='user_state')\n",
        "housing_input_beds = Input(shape=(1,), name='housing_beds')\n",
        "housing_input_baths = Input(shape=(1,), name='housing_baths')"
      ]
    },
    {
      "cell_type": "code",
      "execution_count": 28,
      "metadata": {
        "id": "D5eIFtofF8YT"
      },
      "outputs": [],
      "source": [
        "concat = Concatenate()([user_input_income, user_input_state,\n",
        "                        housing_input_beds,housing_input_baths])"
      ]
    },
    {
      "cell_type": "code",
      "execution_count": 29,
      "metadata": {
        "id": "O2AvLrmjHq8-"
      },
      "outputs": [],
      "source": [
        "dense_1 = Dense(128, activation='relu')(concat)\n",
        "dense_2 = Dense(64, activation='relu')(dense_1)\n",
        "dense_3 = Dense(32, activation='relu')(dense_2)\n",
        "output = Dense(1, activation='sigmoid')(dense_3)"
      ]
    },
    {
      "cell_type": "code",
      "execution_count": 30,
      "metadata": {
        "id": "V9ZW3KahH9Qj"
      },
      "outputs": [],
      "source": [
        "model = Model([user_input_income, user_input_state,\n",
        "                        housing_input_beds,housing_input_baths], output)"
      ]
    },
    {
      "cell_type": "code",
      "execution_count": 31,
      "metadata": {
        "id": "-4rxOiNGIJlu"
      },
      "outputs": [
        {
          "name": "stderr",
          "output_type": "stream",
          "text": [
            "WARNING:absl:You are saving your model as an HDF5 file via `model.save()` or `keras.saving.save_model(model)`. This file format is considered legacy. We recommend using instead the native Keras format, e.g. `model.save('my_model.keras')` or `keras.saving.save_model(model, 'my_model.keras')`. \n"
          ]
        }
      ],
      "source": [
        "model.compile(optimizer='adam', loss='binary_crossentropy', metrics=['accuracy'])\n",
        "\n",
        "# Save the model\n",
        "model.save(r\"C:\\Users\\shahzaib sheikh\\OneDrive\\Documents\\Desktop\\Shahzaib\\Ai project\\new_model.h5\")"
      ]
    },
    {
      "cell_type": "code",
      "execution_count": 32,
      "metadata": {
        "colab": {
          "base_uri": "https://localhost:8080/",
          "height": 488
        },
        "id": "pHRNG74WIM54",
        "outputId": "545f1389-7f75-4349-fe5d-96be5ed03702"
      },
      "outputs": [
        {
          "data": {
            "text/html": [
              "<pre style=\"white-space:pre;overflow-x:auto;line-height:normal;font-family:Menlo,'DejaVu Sans Mono',consolas,'Courier New',monospace\"><span style=\"font-weight: bold\">Model: \"functional_1\"</span>\n",
              "</pre>\n"
            ],
            "text/plain": [
              "\u001b[1mModel: \"functional_1\"\u001b[0m\n"
            ]
          },
          "metadata": {},
          "output_type": "display_data"
        },
        {
          "data": {
            "text/html": [
              "<pre style=\"white-space:pre;overflow-x:auto;line-height:normal;font-family:Menlo,'DejaVu Sans Mono',consolas,'Courier New',monospace\">┏━━━━━━━━━━━━━━━━━━━━━┳━━━━━━━━━━━━━━━━━━━┳━━━━━━━━━━━━┳━━━━━━━━━━━━━━━━━━━┓\n",
              "┃<span style=\"font-weight: bold\"> Layer (type)        </span>┃<span style=\"font-weight: bold\"> Output Shape      </span>┃<span style=\"font-weight: bold\">    Param # </span>┃<span style=\"font-weight: bold\"> Connected to      </span>┃\n",
              "┡━━━━━━━━━━━━━━━━━━━━━╇━━━━━━━━━━━━━━━━━━━╇━━━━━━━━━━━━╇━━━━━━━━━━━━━━━━━━━┩\n",
              "│ user_income         │ (<span style=\"color: #00d7ff; text-decoration-color: #00d7ff\">None</span>, <span style=\"color: #00af00; text-decoration-color: #00af00\">1</span>)         │          <span style=\"color: #00af00; text-decoration-color: #00af00\">0</span> │ -                 │\n",
              "│ (<span style=\"color: #0087ff; text-decoration-color: #0087ff\">InputLayer</span>)        │                   │            │                   │\n",
              "├─────────────────────┼───────────────────┼────────────┼───────────────────┤\n",
              "│ user_state          │ (<span style=\"color: #00d7ff; text-decoration-color: #00d7ff\">None</span>, <span style=\"color: #00af00; text-decoration-color: #00af00\">1</span>)         │          <span style=\"color: #00af00; text-decoration-color: #00af00\">0</span> │ -                 │\n",
              "│ (<span style=\"color: #0087ff; text-decoration-color: #0087ff\">InputLayer</span>)        │                   │            │                   │\n",
              "├─────────────────────┼───────────────────┼────────────┼───────────────────┤\n",
              "│ housing_beds        │ (<span style=\"color: #00d7ff; text-decoration-color: #00d7ff\">None</span>, <span style=\"color: #00af00; text-decoration-color: #00af00\">1</span>)         │          <span style=\"color: #00af00; text-decoration-color: #00af00\">0</span> │ -                 │\n",
              "│ (<span style=\"color: #0087ff; text-decoration-color: #0087ff\">InputLayer</span>)        │                   │            │                   │\n",
              "├─────────────────────┼───────────────────┼────────────┼───────────────────┤\n",
              "│ housing_baths       │ (<span style=\"color: #00d7ff; text-decoration-color: #00d7ff\">None</span>, <span style=\"color: #00af00; text-decoration-color: #00af00\">1</span>)         │          <span style=\"color: #00af00; text-decoration-color: #00af00\">0</span> │ -                 │\n",
              "│ (<span style=\"color: #0087ff; text-decoration-color: #0087ff\">InputLayer</span>)        │                   │            │                   │\n",
              "├─────────────────────┼───────────────────┼────────────┼───────────────────┤\n",
              "│ concatenate         │ (<span style=\"color: #00d7ff; text-decoration-color: #00d7ff\">None</span>, <span style=\"color: #00af00; text-decoration-color: #00af00\">4</span>)         │          <span style=\"color: #00af00; text-decoration-color: #00af00\">0</span> │ user_income[<span style=\"color: #00af00; text-decoration-color: #00af00\">0</span>][<span style=\"color: #00af00; text-decoration-color: #00af00\">0</span>… │\n",
              "│ (<span style=\"color: #0087ff; text-decoration-color: #0087ff\">Concatenate</span>)       │                   │            │ user_state[<span style=\"color: #00af00; text-decoration-color: #00af00\">0</span>][<span style=\"color: #00af00; text-decoration-color: #00af00\">0</span>], │\n",
              "│                     │                   │            │ housing_beds[<span style=\"color: #00af00; text-decoration-color: #00af00\">0</span>][<span style=\"color: #00af00; text-decoration-color: #00af00\">…</span> │\n",
              "│                     │                   │            │ housing_baths[<span style=\"color: #00af00; text-decoration-color: #00af00\">0</span>]… │\n",
              "├─────────────────────┼───────────────────┼────────────┼───────────────────┤\n",
              "│ dense (<span style=\"color: #0087ff; text-decoration-color: #0087ff\">Dense</span>)       │ (<span style=\"color: #00d7ff; text-decoration-color: #00d7ff\">None</span>, <span style=\"color: #00af00; text-decoration-color: #00af00\">128</span>)       │        <span style=\"color: #00af00; text-decoration-color: #00af00\">640</span> │ concatenate[<span style=\"color: #00af00; text-decoration-color: #00af00\">0</span>][<span style=\"color: #00af00; text-decoration-color: #00af00\">0</span>] │\n",
              "├─────────────────────┼───────────────────┼────────────┼───────────────────┤\n",
              "│ dense_1 (<span style=\"color: #0087ff; text-decoration-color: #0087ff\">Dense</span>)     │ (<span style=\"color: #00d7ff; text-decoration-color: #00d7ff\">None</span>, <span style=\"color: #00af00; text-decoration-color: #00af00\">64</span>)        │      <span style=\"color: #00af00; text-decoration-color: #00af00\">8,256</span> │ dense[<span style=\"color: #00af00; text-decoration-color: #00af00\">0</span>][<span style=\"color: #00af00; text-decoration-color: #00af00\">0</span>]       │\n",
              "├─────────────────────┼───────────────────┼────────────┼───────────────────┤\n",
              "│ dense_2 (<span style=\"color: #0087ff; text-decoration-color: #0087ff\">Dense</span>)     │ (<span style=\"color: #00d7ff; text-decoration-color: #00d7ff\">None</span>, <span style=\"color: #00af00; text-decoration-color: #00af00\">32</span>)        │      <span style=\"color: #00af00; text-decoration-color: #00af00\">2,080</span> │ dense_1[<span style=\"color: #00af00; text-decoration-color: #00af00\">0</span>][<span style=\"color: #00af00; text-decoration-color: #00af00\">0</span>]     │\n",
              "├─────────────────────┼───────────────────┼────────────┼───────────────────┤\n",
              "│ dense_3 (<span style=\"color: #0087ff; text-decoration-color: #0087ff\">Dense</span>)     │ (<span style=\"color: #00d7ff; text-decoration-color: #00d7ff\">None</span>, <span style=\"color: #00af00; text-decoration-color: #00af00\">1</span>)         │         <span style=\"color: #00af00; text-decoration-color: #00af00\">33</span> │ dense_2[<span style=\"color: #00af00; text-decoration-color: #00af00\">0</span>][<span style=\"color: #00af00; text-decoration-color: #00af00\">0</span>]     │\n",
              "└─────────────────────┴───────────────────┴────────────┴───────────────────┘\n",
              "</pre>\n"
            ],
            "text/plain": [
              "┏━━━━━━━━━━━━━━━━━━━━━┳━━━━━━━━━━━━━━━━━━━┳━━━━━━━━━━━━┳━━━━━━━━━━━━━━━━━━━┓\n",
              "┃\u001b[1m \u001b[0m\u001b[1mLayer (type)       \u001b[0m\u001b[1m \u001b[0m┃\u001b[1m \u001b[0m\u001b[1mOutput Shape     \u001b[0m\u001b[1m \u001b[0m┃\u001b[1m \u001b[0m\u001b[1m   Param #\u001b[0m\u001b[1m \u001b[0m┃\u001b[1m \u001b[0m\u001b[1mConnected to     \u001b[0m\u001b[1m \u001b[0m┃\n",
              "┡━━━━━━━━━━━━━━━━━━━━━╇━━━━━━━━━━━━━━━━━━━╇━━━━━━━━━━━━╇━━━━━━━━━━━━━━━━━━━┩\n",
              "│ user_income         │ (\u001b[38;5;45mNone\u001b[0m, \u001b[38;5;34m1\u001b[0m)         │          \u001b[38;5;34m0\u001b[0m │ -                 │\n",
              "│ (\u001b[38;5;33mInputLayer\u001b[0m)        │                   │            │                   │\n",
              "├─────────────────────┼───────────────────┼────────────┼───────────────────┤\n",
              "│ user_state          │ (\u001b[38;5;45mNone\u001b[0m, \u001b[38;5;34m1\u001b[0m)         │          \u001b[38;5;34m0\u001b[0m │ -                 │\n",
              "│ (\u001b[38;5;33mInputLayer\u001b[0m)        │                   │            │                   │\n",
              "├─────────────────────┼───────────────────┼────────────┼───────────────────┤\n",
              "│ housing_beds        │ (\u001b[38;5;45mNone\u001b[0m, \u001b[38;5;34m1\u001b[0m)         │          \u001b[38;5;34m0\u001b[0m │ -                 │\n",
              "│ (\u001b[38;5;33mInputLayer\u001b[0m)        │                   │            │                   │\n",
              "├─────────────────────┼───────────────────┼────────────┼───────────────────┤\n",
              "│ housing_baths       │ (\u001b[38;5;45mNone\u001b[0m, \u001b[38;5;34m1\u001b[0m)         │          \u001b[38;5;34m0\u001b[0m │ -                 │\n",
              "│ (\u001b[38;5;33mInputLayer\u001b[0m)        │                   │            │                   │\n",
              "├─────────────────────┼───────────────────┼────────────┼───────────────────┤\n",
              "│ concatenate         │ (\u001b[38;5;45mNone\u001b[0m, \u001b[38;5;34m4\u001b[0m)         │          \u001b[38;5;34m0\u001b[0m │ user_income[\u001b[38;5;34m0\u001b[0m][\u001b[38;5;34m0\u001b[0m… │\n",
              "│ (\u001b[38;5;33mConcatenate\u001b[0m)       │                   │            │ user_state[\u001b[38;5;34m0\u001b[0m][\u001b[38;5;34m0\u001b[0m], │\n",
              "│                     │                   │            │ housing_beds[\u001b[38;5;34m0\u001b[0m][\u001b[38;5;34m…\u001b[0m │\n",
              "│                     │                   │            │ housing_baths[\u001b[38;5;34m0\u001b[0m]… │\n",
              "├─────────────────────┼───────────────────┼────────────┼───────────────────┤\n",
              "│ dense (\u001b[38;5;33mDense\u001b[0m)       │ (\u001b[38;5;45mNone\u001b[0m, \u001b[38;5;34m128\u001b[0m)       │        \u001b[38;5;34m640\u001b[0m │ concatenate[\u001b[38;5;34m0\u001b[0m][\u001b[38;5;34m0\u001b[0m] │\n",
              "├─────────────────────┼───────────────────┼────────────┼───────────────────┤\n",
              "│ dense_1 (\u001b[38;5;33mDense\u001b[0m)     │ (\u001b[38;5;45mNone\u001b[0m, \u001b[38;5;34m64\u001b[0m)        │      \u001b[38;5;34m8,256\u001b[0m │ dense[\u001b[38;5;34m0\u001b[0m][\u001b[38;5;34m0\u001b[0m]       │\n",
              "├─────────────────────┼───────────────────┼────────────┼───────────────────┤\n",
              "│ dense_2 (\u001b[38;5;33mDense\u001b[0m)     │ (\u001b[38;5;45mNone\u001b[0m, \u001b[38;5;34m32\u001b[0m)        │      \u001b[38;5;34m2,080\u001b[0m │ dense_1[\u001b[38;5;34m0\u001b[0m][\u001b[38;5;34m0\u001b[0m]     │\n",
              "├─────────────────────┼───────────────────┼────────────┼───────────────────┤\n",
              "│ dense_3 (\u001b[38;5;33mDense\u001b[0m)     │ (\u001b[38;5;45mNone\u001b[0m, \u001b[38;5;34m1\u001b[0m)         │         \u001b[38;5;34m33\u001b[0m │ dense_2[\u001b[38;5;34m0\u001b[0m][\u001b[38;5;34m0\u001b[0m]     │\n",
              "└─────────────────────┴───────────────────┴────────────┴───────────────────┘\n"
            ]
          },
          "metadata": {},
          "output_type": "display_data"
        },
        {
          "data": {
            "text/html": [
              "<pre style=\"white-space:pre;overflow-x:auto;line-height:normal;font-family:Menlo,'DejaVu Sans Mono',consolas,'Courier New',monospace\"><span style=\"font-weight: bold\"> Total params: </span><span style=\"color: #00af00; text-decoration-color: #00af00\">11,009</span> (43.00 KB)\n",
              "</pre>\n"
            ],
            "text/plain": [
              "\u001b[1m Total params: \u001b[0m\u001b[38;5;34m11,009\u001b[0m (43.00 KB)\n"
            ]
          },
          "metadata": {},
          "output_type": "display_data"
        },
        {
          "data": {
            "text/html": [
              "<pre style=\"white-space:pre;overflow-x:auto;line-height:normal;font-family:Menlo,'DejaVu Sans Mono',consolas,'Courier New',monospace\"><span style=\"font-weight: bold\"> Trainable params: </span><span style=\"color: #00af00; text-decoration-color: #00af00\">11,009</span> (43.00 KB)\n",
              "</pre>\n"
            ],
            "text/plain": [
              "\u001b[1m Trainable params: \u001b[0m\u001b[38;5;34m11,009\u001b[0m (43.00 KB)\n"
            ]
          },
          "metadata": {},
          "output_type": "display_data"
        },
        {
          "data": {
            "text/html": [
              "<pre style=\"white-space:pre;overflow-x:auto;line-height:normal;font-family:Menlo,'DejaVu Sans Mono',consolas,'Courier New',monospace\"><span style=\"font-weight: bold\"> Non-trainable params: </span><span style=\"color: #00af00; text-decoration-color: #00af00\">0</span> (0.00 B)\n",
              "</pre>\n"
            ],
            "text/plain": [
              "\u001b[1m Non-trainable params: \u001b[0m\u001b[38;5;34m0\u001b[0m (0.00 B)\n"
            ]
          },
          "metadata": {},
          "output_type": "display_data"
        }
      ],
      "source": [
        "model.summary()"
      ]
    },
    {
      "cell_type": "code",
      "execution_count": 33,
      "metadata": {
        "colab": {
          "base_uri": "https://localhost:8080/",
          "height": 424
        },
        "id": "rBlZDivCSvx8",
        "outputId": "ad37c82f-bf14-452d-fd1e-58dab4b168aa"
      },
      "outputs": [
        {
          "data": {
            "text/html": [
              "<div>\n",
              "<style scoped>\n",
              "    .dataframe tbody tr th:only-of-type {\n",
              "        vertical-align: middle;\n",
              "    }\n",
              "\n",
              "    .dataframe tbody tr th {\n",
              "        vertical-align: top;\n",
              "    }\n",
              "\n",
              "    .dataframe thead th {\n",
              "        text-align: right;\n",
              "    }\n",
              "</style>\n",
              "<table border=\"1\" class=\"dataframe\">\n",
              "  <thead>\n",
              "    <tr style=\"text-align: right;\">\n",
              "      <th></th>\n",
              "      <th>STATE</th>\n",
              "      <th>TYPE</th>\n",
              "      <th>PRICE</th>\n",
              "      <th>BEDS</th>\n",
              "      <th>BATH</th>\n",
              "      <th>PROPERTYSQFT</th>\n",
              "      <th>FORMATTED_ADDRESS</th>\n",
              "    </tr>\n",
              "  </thead>\n",
              "  <tbody>\n",
              "    <tr>\n",
              "      <th>0</th>\n",
              "      <td>46</td>\n",
              "      <td>2</td>\n",
              "      <td>0.000146</td>\n",
              "      <td>0.020408</td>\n",
              "      <td>0.040000</td>\n",
              "      <td>0.017916</td>\n",
              "      <td>regisresidence 2e55thst803 newyork ny10022 usa</td>\n",
              "    </tr>\n",
              "    <tr>\n",
              "      <th>1</th>\n",
              "      <td>46</td>\n",
              "      <td>2</td>\n",
              "      <td>0.090803</td>\n",
              "      <td>0.122449</td>\n",
              "      <td>0.200000</td>\n",
              "      <td>0.265140</td>\n",
              "      <td>217w57thst newyork ny10019 usa</td>\n",
              "    </tr>\n",
              "    <tr>\n",
              "      <th>2</th>\n",
              "      <td>65</td>\n",
              "      <td>7</td>\n",
              "      <td>0.000120</td>\n",
              "      <td>0.061224</td>\n",
              "      <td>0.040000</td>\n",
              "      <td>0.027333</td>\n",
              "      <td>620sinclairave statenisland ny10312 usa</td>\n",
              "    </tr>\n",
              "    <tr>\n",
              "      <th>3</th>\n",
              "      <td>42</td>\n",
              "      <td>2</td>\n",
              "      <td>0.000031</td>\n",
              "      <td>0.040816</td>\n",
              "      <td>0.020000</td>\n",
              "      <td>0.003292</td>\n",
              "      <td>2e55thst newyork ny10022 usa</td>\n",
              "    </tr>\n",
              "    <tr>\n",
              "      <th>4</th>\n",
              "      <td>46</td>\n",
              "      <td>12</td>\n",
              "      <td>0.025610</td>\n",
              "      <td>0.122449</td>\n",
              "      <td>0.047477</td>\n",
              "      <td>0.213536</td>\n",
              "      <td>5e64thst newyork ny10065 usa</td>\n",
              "    </tr>\n",
              "    <tr>\n",
              "      <th>...</th>\n",
              "      <td>...</td>\n",
              "      <td>...</td>\n",
              "      <td>...</td>\n",
              "      <td>...</td>\n",
              "      <td>...</td>\n",
              "      <td>...</td>\n",
              "      <td>...</td>\n",
              "    </tr>\n",
              "    <tr>\n",
              "      <th>4796</th>\n",
              "      <td>42</td>\n",
              "      <td>0</td>\n",
              "      <td>0.000278</td>\n",
              "      <td>0.000000</td>\n",
              "      <td>0.020000</td>\n",
              "      <td>0.029924</td>\n",
              "      <td>222e80thst3a newyork ny10075 usa</td>\n",
              "    </tr>\n",
              "    <tr>\n",
              "      <th>4797</th>\n",
              "      <td>55</td>\n",
              "      <td>0</td>\n",
              "      <td>0.000113</td>\n",
              "      <td>0.000000</td>\n",
              "      <td>0.020000</td>\n",
              "      <td>0.029924</td>\n",
              "      <td>974062nddr regopark ny11374 usa</td>\n",
              "    </tr>\n",
              "    <tr>\n",
              "      <th>4798</th>\n",
              "      <td>46</td>\n",
              "      <td>0</td>\n",
              "      <td>0.000593</td>\n",
              "      <td>0.000000</td>\n",
              "      <td>0.020000</td>\n",
              "      <td>0.029924</td>\n",
              "      <td>427w21stst newyork ny10011 usa</td>\n",
              "    </tr>\n",
              "    <tr>\n",
              "      <th>4799</th>\n",
              "      <td>23</td>\n",
              "      <td>2</td>\n",
              "      <td>0.000277</td>\n",
              "      <td>0.020408</td>\n",
              "      <td>0.020000</td>\n",
              "      <td>0.006508</td>\n",
              "      <td>9123coronaave4b flushing ny11373 usa</td>\n",
              "    </tr>\n",
              "    <tr>\n",
              "      <th>4800</th>\n",
              "      <td>11</td>\n",
              "      <td>0</td>\n",
              "      <td>0.000161</td>\n",
              "      <td>0.000000</td>\n",
              "      <td>0.020000</td>\n",
              "      <td>0.007963</td>\n",
              "      <td>460neptuneave14a brooklyn ny11224 usa</td>\n",
              "    </tr>\n",
              "  </tbody>\n",
              "</table>\n",
              "<p>4801 rows × 7 columns</p>\n",
              "</div>"
            ],
            "text/plain": [
              "      STATE  TYPE     PRICE      BEDS      BATH  PROPERTYSQFT  \\\n",
              "0        46     2  0.000146  0.020408  0.040000      0.017916   \n",
              "1        46     2  0.090803  0.122449  0.200000      0.265140   \n",
              "2        65     7  0.000120  0.061224  0.040000      0.027333   \n",
              "3        42     2  0.000031  0.040816  0.020000      0.003292   \n",
              "4        46    12  0.025610  0.122449  0.047477      0.213536   \n",
              "...     ...   ...       ...       ...       ...           ...   \n",
              "4796     42     0  0.000278  0.000000  0.020000      0.029924   \n",
              "4797     55     0  0.000113  0.000000  0.020000      0.029924   \n",
              "4798     46     0  0.000593  0.000000  0.020000      0.029924   \n",
              "4799     23     2  0.000277  0.020408  0.020000      0.006508   \n",
              "4800     11     0  0.000161  0.000000  0.020000      0.007963   \n",
              "\n",
              "                                   FORMATTED_ADDRESS  \n",
              "0     regisresidence 2e55thst803 newyork ny10022 usa  \n",
              "1                     217w57thst newyork ny10019 usa  \n",
              "2            620sinclairave statenisland ny10312 usa  \n",
              "3                       2e55thst newyork ny10022 usa  \n",
              "4                       5e64thst newyork ny10065 usa  \n",
              "...                                              ...  \n",
              "4796                222e80thst3a newyork ny10075 usa  \n",
              "4797                 974062nddr regopark ny11374 usa  \n",
              "4798                  427w21stst newyork ny10011 usa  \n",
              "4799            9123coronaave4b flushing ny11373 usa  \n",
              "4800           460neptuneave14a brooklyn ny11224 usa  \n",
              "\n",
              "[4801 rows x 7 columns]"
            ]
          },
          "execution_count": 33,
          "metadata": {},
          "output_type": "execute_result"
        }
      ],
      "source": [
        "df"
      ]
    },
    {
      "cell_type": "code",
      "execution_count": 38,
      "metadata": {
        "colab": {
          "base_uri": "https://localhost:8080/"
        },
        "id": "Dros2jU8IdUt",
        "outputId": "c6cd131c-5283-4b82-ef95-5797cb529e3d"
      },
      "outputs": [
        {
          "name": "stdout",
          "output_type": "stream",
          "text": [
            "STATE                                                            46\n",
            "TYPE                                                              2\n",
            "PRICE                                                      0.000146\n",
            "BEDS                                                       0.020408\n",
            "BATH                                                           0.04\n",
            "PROPERTYSQFT                                               0.017916\n",
            "FORMATTED_ADDRESS    regisresidence 2e55thst803 newyork ny10022 usa\n",
            "match_score                                                0.682251\n",
            "Name: 0, dtype: object\n",
            "\u001b[1m1/1\u001b[0m \u001b[32m━━━━━━━━━━━━━━━━━━━━\u001b[0m\u001b[37m\u001b[0m \u001b[1m0s\u001b[0m 206ms/step\n",
            "Match prediction for user 1 and housing 1: 0.6822510361671448\n"
          ]
        }
      ],
      "source": [
        "user_example = df.iloc[0]  # User 1\n",
        "\n",
        "print(user_example)\n",
        "\n",
        "user_input = [np.array([user_example['PRICE']]), np.array([user_example['STATE']]),\n",
        "              np.array([user_example['BEDS']]), np.array([user_example['BATH']])\n",
        "              ]\n",
        "\n",
        "prediction = model.predict(user_input)\n",
        "print(f\"Match prediction for user 1 and housing 1: {prediction[0][0]}\")"
      ]
    },
    {
      "cell_type": "code",
      "execution_count": 35,
      "metadata": {
        "colab": {
          "base_uri": "https://localhost:8080/"
        },
        "id": "Ztz64NJrg-kY",
        "outputId": "ba7d0a7d-8c10-47bc-a6e8-c76c228c6544"
      },
      "outputs": [
        {
          "name": "stdout",
          "output_type": "stream",
          "text": [
            "\u001b[1m151/151\u001b[0m \u001b[32m━━━━━━━━━━━━━━━━━━━━\u001b[0m\u001b[37m\u001b[0m \u001b[1m1s\u001b[0m 3ms/step\n",
            "Recommendation 4801: Address: 460neptuneave14a brooklyn ny11224 usa, Price: 0.00016135461748566972, Beds: 0.0, Baths: 0.02, Match Score: 0.6823\n",
            "Recommendation 3208: Address: 3533rdst5b brooklyn ny11215 usa, Price: 0.0010465777531319736, Beds: 0.04081632653061225, Baths: 0.04, Match Score: 0.6823\n",
            "Recommendation 3206: Address: 37douglasrd statenisland ny10304 usa, Price: 0.0006455497865782666, Beds: 0.10204081632653061, Baths: 0.08, Match Score: 0.6823\n",
            "Recommendation 3205: Address: 10355thave4b newyork ny10028 usa, Price: 0.0010000115702994484, Beds: 0.02040816326530612, Baths: 0.04, Match Score: 0.6823\n",
            "Recommendation 3204: Address: 74macdougalst newyork ny10012 usa, Price: 0.0032561431285352935, Beds: 0.10204081632653061, Baths: 0.1, Match Score: 0.6823\n",
            "Recommendation 3203: Address: 220congressst4d brooklyn ny11201 usa, Price: 0.00033411515579433816, Beds: 0.0, Baths: 0.02, Match Score: 0.6823\n",
            "Recommendation 3202: Address: 994063rdrd5a regopark ny11374 usa, Price: 8.032945935707589e-05, Beds: 0.04081632653061225, Baths: 0.02, Match Score: 0.6823\n",
            "Recommendation 3201: Address: 2601henryhudsonpkwyw bronx ny10463 usa, Price: 0.00011478843465314453, Beds: 0.02040816326530612, Baths: 0.02, Match Score: 0.6823\n",
            "Recommendation 3200: Address: 2475w16thst12h brooklyn ny11214 usa, Price: 0.00018463770890193233, Beds: 0.04081632653061225, Baths: 0.04, Match Score: 0.6823\n",
            "Recommendation 3199: Address: 16241powellscoveblvdapt2m whitestone ny11357 usa, Price: 0.0002086192930606828, Beds: 0.02040816326530612, Baths: 0.02, Match Score: 0.6823\n"
          ]
        }
      ],
      "source": [
        "user_input_price = np.array([user_example['PRICE']] * len(df))\n",
        "user_input_state = np.array([user_example['STATE']] * len(df))\n",
        "user_input_beds = np.array([user_example['BEDS']] * len(df))\n",
        "user_input_baths = np.array([user_example['BATH']] * len(df))\n",
        "\n",
        "\n",
        "predictions = model.predict([user_input_price, user_input_state, user_input_beds, user_input_baths\n",
        "                             ])\n",
        "\n",
        "df['match_score'] = predictions\n",
        "\n",
        "top_10_recommendations = df.sort_values(by='match_score', ascending=False).head(10)\n",
        "\n",
        "for i, row in top_10_recommendations.iterrows():\n",
        "    print(f\"Recommendation {i+1}: Address: {row['FORMATTED_ADDRESS']}, Price: {row['PRICE']}, Beds: {row['BEDS']}, Baths: {row['BATH']}, Match Score: {row['match_score']:.4f}\")\n"
      ]
    },
    {
      "cell_type": "code",
      "execution_count": 36,
      "metadata": {
        "id": "AZX4yTUuOPzP"
      },
      "outputs": [],
      "source": [
        "from sklearn.metrics.pairwise import cosine_similarity\n",
        "\n",
        "similarity=cosine_similarity(address_vector)"
      ]
    },
    {
      "cell_type": "code",
      "execution_count": 37,
      "metadata": {
        "colab": {
          "base_uri": "https://localhost:8080/"
        },
        "id": "0ZTg-PP_gHiO",
        "outputId": "53384a8e-6026-4bb4-866b-ab8763240e55"
      },
      "outputs": [
        {
          "data": {
            "text/plain": [
              "array([0.04273156, 0.05429138, 0.00842136, ..., 0.05429138, 0.00814006,\n",
              "       0.00826915])"
            ]
          },
          "execution_count": 37,
          "metadata": {},
          "output_type": "execute_result"
        }
      ],
      "source": [
        "similarity[6]"
      ]
    },
    {
      "cell_type": "code",
      "execution_count": null,
      "metadata": {
        "id": "7VSd9coZgW6_"
      },
      "outputs": [],
      "source": []
    }
  ],
  "metadata": {
    "colab": {
      "provenance": []
    },
    "kernelspec": {
      "display_name": "Python 3",
      "name": "python3"
    },
    "language_info": {
      "codemirror_mode": {
        "name": "ipython",
        "version": 3
      },
      "file_extension": ".py",
      "mimetype": "text/x-python",
      "name": "python",
      "nbconvert_exporter": "python",
      "pygments_lexer": "ipython3",
      "version": "3.11.3"
    }
  },
  "nbformat": 4,
  "nbformat_minor": 0
}
